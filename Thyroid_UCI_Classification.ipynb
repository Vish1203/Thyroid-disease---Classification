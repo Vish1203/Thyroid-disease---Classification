{
  "nbformat": 4,
  "nbformat_minor": 0,
  "metadata": {
    "colab": {
      "name": "Thyroid_UCI_Classification.ipynb",
      "provenance": [],
      "collapsed_sections": [],
      "include_colab_link": true
    },
    "kernelspec": {
      "display_name": "Python 3 (ipykernel)",
      "language": "python",
      "name": "python3"
    },
    "language_info": {
      "codemirror_mode": {
        "name": "ipython",
        "version": 3
      },
      "file_extension": ".py",
      "mimetype": "text/x-python",
      "name": "python",
      "nbconvert_exporter": "python",
      "pygments_lexer": "ipython3",
      "version": "3.8.8"
    }
  },
  "cells": [
    {
      "cell_type": "markdown",
      "metadata": {
        "id": "view-in-github",
        "colab_type": "text"
      },
      "source": [
        "<a href=\"https://colab.research.google.com/github/Vish1203/Thyroid-disease---Classification/blob/main/Thyroid_UCI_Classification.ipynb\" target=\"_parent\"><img src=\"https://colab.research.google.com/assets/colab-badge.svg\" alt=\"Open In Colab\"/></a>"
      ]
    },
    {
      "cell_type": "code",
      "metadata": {
        "id": "S8kz27jXHIQT"
      },
      "source": [
        "from sklearn import *\n",
        "import pandas as pd\n",
        "import seaborn as sns\n",
        "import matplotlib.pyplot as plt \n",
        "import numpy as np\n",
        "import sklearn\n",
        "\n"
      ],
      "execution_count": 4,
      "outputs": []
    },
    {
      "cell_type": "code",
      "metadata": {
        "id": "q4MxdryRQZIz"
      },
      "source": [
        "columns = [\"Age\", \"Sex\", \"On Thyroxine\", \"Query on Thyroxine\", \n",
        "           \"On Antithyroid Medication\", \"Sick\", \"Pregnant\", \n",
        "           \"Thyroid Surgery\", \"I131 Treatment\", \"Query Hypothyroid\", \n",
        "           \"Query Hyperthyroid\", \"Lithium\", \"Goitre\", \"Tumor\", \n",
        "           \"Hypopituitary\", \"Psych\", \"TSH Measured\", \"TSH\", \"T3 Measured\", \n",
        "           \"T3\", \"TT4 Measured\", \"TT4\", \"T4U Measured\", \"T4U\", \n",
        "           \"FTI Measured\", \"FTI\", \"TBG Measured\", \"TBG\", \"Referral Source\", \"Category\"]"
      ],
      "execution_count": 5,
      "outputs": []
    },
    {
      "cell_type": "code",
      "metadata": {
        "id": "R5QFRzAYQa74"
      },
      "source": [
        "hyper_data = pd.read_csv(\"allhyper.csv\", names=columns)\n",
        "hypo_data = pd.read_csv(\"allhypo.csv\", names=columns)\n",
        "sick_data = pd.read_csv(\"sick.csv\", names=columns)"
      ],
      "execution_count": 6,
      "outputs": []
    },
    {
      "cell_type": "code",
      "metadata": {
        "id": "AEb_Mxl5Qbam"
      },
      "source": [
        "def parse_row(row):\n",
        "    row = row.split(\".\")[0]\n",
        "    return row\n",
        "\n",
        "def to_hyperthyroid(row):\n",
        "    if row != \"negative\":\n",
        "        row = \"hyperthyroid\"\n",
        "    return row\n",
        "\n",
        "def to_hypothyroid(row):\n",
        "    if row != \"negative\":\n",
        "        row = \"hypothyroid\"\n",
        "    return row\n",
        "\n",
        "def convert_category(dataframe, column):\n",
        "    \n",
        "    if column == 'Sex':\n",
        "        conditionF = dataframe[column] == 'F' # For sex column\n",
        "        conditionT = dataframe[column] == 'M' # For sex column\n",
        "    else:\n",
        "        conditionF = dataframe[column] == 'f'\n",
        "        conditionT = dataframe[column] == 't'\n",
        "    \n",
        "    dataframe.loc[conditionF, column] = 0\n",
        "    dataframe.loc[conditionT, column] = 1"
      ],
      "execution_count": 7,
      "outputs": []
    },
    {
      "cell_type": "code",
      "metadata": {
        "id": "Kb_rVFMUQive"
      },
      "source": [
        "hyper_data['Category'] = hyper_data['Category'] \\\n",
        "                            .apply(parse_row) \\\n",
        "                            .apply(to_hyperthyroid)\n",
        "\n",
        "hypo_data['Category'] = hypo_data['Category'] \\\n",
        "                            .apply(parse_row) \\\n",
        "                            .apply(to_hypothyroid)\n",
        "\n",
        "sick_data['Category'] = sick_data['Category'] \\\n",
        "                            .apply(parse_row)"
      ],
      "execution_count": 8,
      "outputs": []
    },
    {
      "cell_type": "code",
      "metadata": {
        "id": "fpQZoc_OQljM"
      },
      "source": [
        "\n",
        "# Combined Thyroid Data\n",
        "thyroid_data = [hyper_data, hypo_data, sick_data]\n",
        "full_data = pd.concat(thyroid_data) \\\n",
        "                 .drop_duplicates() \\\n",
        "                 .drop(['Referral Source', 'TBG', 'TBG Measured'], axis=1)"
      ],
      "execution_count": 9,
      "outputs": []
    },
    {
      "cell_type": "code",
      "metadata": {
        "colab": {
          "base_uri": "https://localhost:8080/"
        },
        "id": "v2wMQ6p7QqFE",
        "outputId": "60041d77-009a-4824-eaf9-d5d95ecd11b9"
      },
      "source": [
        "classes = full_data['Category'].unique()\n",
        "classes"
      ],
      "execution_count": 10,
      "outputs": [
        {
          "output_type": "execute_result",
          "data": {
            "text/plain": [
              "array(['negative', 'hyperthyroid', 'hypothyroid', 'sick'], dtype=object)"
            ]
          },
          "metadata": {},
          "execution_count": 10
        }
      ]
    },
    {
      "cell_type": "code",
      "metadata": {
        "colab": {
          "base_uri": "https://localhost:8080/"
        },
        "id": "FNT3Qj3GQudm",
        "outputId": "0510d214-2c93-4c88-e0de-8c0f3343cfa3"
      },
      "source": [
        "full_data.duplicated().sum()"
      ],
      "execution_count": 11,
      "outputs": [
        {
          "output_type": "execute_result",
          "data": {
            "text/plain": [
              "0"
            ]
          },
          "metadata": {},
          "execution_count": 11
        }
      ]
    },
    {
      "cell_type": "code",
      "metadata": {
        "colab": {
          "base_uri": "https://localhost:8080/"
        },
        "id": "JF9_NiMcQxBS",
        "outputId": "c488547c-a840-4a48-d814-05e495a3736d"
      },
      "source": [
        "full_data.isnull().sum()"
      ],
      "execution_count": 12,
      "outputs": [
        {
          "output_type": "execute_result",
          "data": {
            "text/plain": [
              "Age                          0\n",
              "Sex                          0\n",
              "On Thyroxine                 0\n",
              "Query on Thyroxine           0\n",
              "On Antithyroid Medication    0\n",
              "Sick                         0\n",
              "Pregnant                     0\n",
              "Thyroid Surgery              0\n",
              "I131 Treatment               0\n",
              "Query Hypothyroid            0\n",
              "Query Hyperthyroid           0\n",
              "Lithium                      0\n",
              "Goitre                       0\n",
              "Tumor                        0\n",
              "Hypopituitary                0\n",
              "Psych                        0\n",
              "TSH Measured                 0\n",
              "TSH                          0\n",
              "T3 Measured                  0\n",
              "T3                           0\n",
              "TT4 Measured                 0\n",
              "TT4                          0\n",
              "T4U Measured                 0\n",
              "T4U                          0\n",
              "FTI Measured                 0\n",
              "FTI                          0\n",
              "Category                     0\n",
              "dtype: int64"
            ]
          },
          "metadata": {},
          "execution_count": 12
        }
      ]
    },
    {
      "cell_type": "code",
      "metadata": {
        "colab": {
          "base_uri": "https://localhost:8080/"
        },
        "id": "n-oX2NYgQ9zs",
        "outputId": "8d35939f-b492-4acb-c6d4-4a7e328463e5"
      },
      "source": [
        "full_data['Age'].value_counts()"
      ],
      "execution_count": 15,
      "outputs": [
        {
          "output_type": "execute_result",
          "data": {
            "text/plain": [
              "59     91\n",
              "70     83\n",
              "60     82\n",
              "73     79\n",
              "63     79\n",
              "       ..\n",
              "?       1\n",
              "455     1\n",
              "4       1\n",
              "10      1\n",
              "5       1\n",
              "Name: Age, Length: 94, dtype: int64"
            ]
          },
          "metadata": {},
          "execution_count": 15
        }
      ]
    },
    {
      "cell_type": "code",
      "metadata": {
        "id": "4oLsvy5xRAOo"
      },
      "source": [
        "binary_cols = ['On Thyroxine', 'Query on Thyroxine', 'Sex',\n",
        "               'On Antithyroid Medication', 'Sick', 'Pregnant', \n",
        "               'Thyroid Surgery', 'I131 Treatment', 'Query Hypothyroid', \n",
        "               'Query Hyperthyroid', 'Lithium', 'Goitre', 'Tumor', \n",
        "               'Hypopituitary', 'Psych', 'TSH Measured', 'T3 Measured', \n",
        "               'TT4 Measured', 'T4U Measured', 'FTI Measured']\n",
        "\n",
        "for col in binary_cols: convert_category(full_data, col)"
      ],
      "execution_count": 16,
      "outputs": []
    },
    {
      "cell_type": "code",
      "metadata": {
        "id": "aemMY1mIV0Yl"
      },
      "source": [
        "for col in full_data.columns: \n",
        "    if col != 'Category':\n",
        "        full_data.loc[full_data[col] == '?', col] = np.nan\n",
        "        full_data[col] = pd.to_numeric(full_data[col])"
      ],
      "execution_count": 17,
      "outputs": []
    },
    {
      "cell_type": "code",
      "metadata": {
        "colab": {
          "base_uri": "https://localhost:8080/"
        },
        "id": "jeNKTbjHV7Vs",
        "outputId": "4547a325-ff7e-474c-ba2f-06e2298928da"
      },
      "source": [
        "full_data.isna().sum()"
      ],
      "execution_count": 18,
      "outputs": [
        {
          "output_type": "execute_result",
          "data": {
            "text/plain": [
              "Age                            1\n",
              "Sex                          127\n",
              "On Thyroxine                   0\n",
              "Query on Thyroxine             0\n",
              "On Antithyroid Medication      0\n",
              "Sick                           0\n",
              "Pregnant                       0\n",
              "Thyroid Surgery                0\n",
              "I131 Treatment                 0\n",
              "Query Hypothyroid              0\n",
              "Query Hyperthyroid             0\n",
              "Lithium                        0\n",
              "Goitre                         0\n",
              "Tumor                          0\n",
              "Hypopituitary                  0\n",
              "Psych                          0\n",
              "TSH Measured                   0\n",
              "TSH                          247\n",
              "T3 Measured                    0\n",
              "T3                           589\n",
              "TT4 Measured                   0\n",
              "TT4                          142\n",
              "T4U Measured                   0\n",
              "T4U                          276\n",
              "FTI Measured                   0\n",
              "FTI                          274\n",
              "Category                       0\n",
              "dtype: int64"
            ]
          },
          "metadata": {},
          "execution_count": 18
        }
      ]
    },
    {
      "cell_type": "code",
      "metadata": {
        "id": "iRghs4FyWBip"
      },
      "source": [
        "full_data.dropna(axis=0, thresh=20, inplace=True)"
      ],
      "execution_count": 19,
      "outputs": []
    },
    {
      "cell_type": "code",
      "metadata": {
        "colab": {
          "base_uri": "https://localhost:8080/"
        },
        "id": "5LjsAHHWWDdB",
        "outputId": "31eaf0c6-faa9-4f5a-a78c-4e5832a038af"
      },
      "source": [
        "full_data.isna().sum()"
      ],
      "execution_count": 20,
      "outputs": [
        {
          "output_type": "execute_result",
          "data": {
            "text/plain": [
              "Age                            1\n",
              "Sex                          127\n",
              "On Thyroxine                   0\n",
              "Query on Thyroxine             0\n",
              "On Antithyroid Medication      0\n",
              "Sick                           0\n",
              "Pregnant                       0\n",
              "Thyroid Surgery                0\n",
              "I131 Treatment                 0\n",
              "Query Hypothyroid              0\n",
              "Query Hyperthyroid             0\n",
              "Lithium                        0\n",
              "Goitre                         0\n",
              "Tumor                          0\n",
              "Hypopituitary                  0\n",
              "Psych                          0\n",
              "TSH Measured                   0\n",
              "TSH                          247\n",
              "T3 Measured                    0\n",
              "T3                           589\n",
              "TT4 Measured                   0\n",
              "TT4                          142\n",
              "T4U Measured                   0\n",
              "T4U                          276\n",
              "FTI Measured                   0\n",
              "FTI                          274\n",
              "Category                       0\n",
              "dtype: int64"
            ]
          },
          "metadata": {},
          "execution_count": 20
        }
      ]
    },
    {
      "cell_type": "code",
      "metadata": {
        "colab": {
          "base_uri": "https://localhost:8080/",
          "height": 1000
        },
        "id": "3VtGSkoSWGSx",
        "outputId": "92d9f17b-19e6-4675-c1d8-0197c410c59a"
      },
      "source": [
        "full_data.corr()"
      ],
      "execution_count": 21,
      "outputs": [
        {
          "output_type": "execute_result",
          "data": {
            "text/html": [
              "<div>\n",
              "<style scoped>\n",
              "    .dataframe tbody tr th:only-of-type {\n",
              "        vertical-align: middle;\n",
              "    }\n",
              "\n",
              "    .dataframe tbody tr th {\n",
              "        vertical-align: top;\n",
              "    }\n",
              "\n",
              "    .dataframe thead th {\n",
              "        text-align: right;\n",
              "    }\n",
              "</style>\n",
              "<table border=\"1\" class=\"dataframe\">\n",
              "  <thead>\n",
              "    <tr style=\"text-align: right;\">\n",
              "      <th></th>\n",
              "      <th>Age</th>\n",
              "      <th>Sex</th>\n",
              "      <th>On Thyroxine</th>\n",
              "      <th>Query on Thyroxine</th>\n",
              "      <th>On Antithyroid Medication</th>\n",
              "      <th>Sick</th>\n",
              "      <th>Pregnant</th>\n",
              "      <th>Thyroid Surgery</th>\n",
              "      <th>I131 Treatment</th>\n",
              "      <th>Query Hypothyroid</th>\n",
              "      <th>Query Hyperthyroid</th>\n",
              "      <th>Lithium</th>\n",
              "      <th>Goitre</th>\n",
              "      <th>Tumor</th>\n",
              "      <th>Hypopituitary</th>\n",
              "      <th>Psych</th>\n",
              "      <th>TSH Measured</th>\n",
              "      <th>TSH</th>\n",
              "      <th>T3 Measured</th>\n",
              "      <th>T3</th>\n",
              "      <th>TT4 Measured</th>\n",
              "      <th>TT4</th>\n",
              "      <th>T4U Measured</th>\n",
              "      <th>T4U</th>\n",
              "      <th>FTI Measured</th>\n",
              "      <th>FTI</th>\n",
              "    </tr>\n",
              "  </thead>\n",
              "  <tbody>\n",
              "    <tr>\n",
              "      <th>Age</th>\n",
              "      <td>1.000000</td>\n",
              "      <td>-0.003208</td>\n",
              "      <td>-0.008367</td>\n",
              "      <td>-0.027613</td>\n",
              "      <td>-0.060207</td>\n",
              "      <td>0.083034</td>\n",
              "      <td>-0.116033</td>\n",
              "      <td>-0.039668</td>\n",
              "      <td>0.042425</td>\n",
              "      <td>0.016482</td>\n",
              "      <td>-0.034982</td>\n",
              "      <td>-0.036091</td>\n",
              "      <td>-0.035829</td>\n",
              "      <td>-0.035816</td>\n",
              "      <td>-0.038576</td>\n",
              "      <td>-0.073710</td>\n",
              "      <td>0.092744</td>\n",
              "      <td>-0.076631</td>\n",
              "      <td>0.077409</td>\n",
              "      <td>-0.251273</td>\n",
              "      <td>0.059131</td>\n",
              "      <td>-0.060948</td>\n",
              "      <td>0.088681</td>\n",
              "      <td>-0.189604</td>\n",
              "      <td>0.087605</td>\n",
              "      <td>0.028542</td>\n",
              "    </tr>\n",
              "    <tr>\n",
              "      <th>Sex</th>\n",
              "      <td>-0.003208</td>\n",
              "      <td>1.000000</td>\n",
              "      <td>-0.081450</td>\n",
              "      <td>0.037623</td>\n",
              "      <td>-0.027244</td>\n",
              "      <td>0.010154</td>\n",
              "      <td>-0.083087</td>\n",
              "      <td>-0.042861</td>\n",
              "      <td>-0.031486</td>\n",
              "      <td>-0.022117</td>\n",
              "      <td>-0.077522</td>\n",
              "      <td>-0.029968</td>\n",
              "      <td>0.032781</td>\n",
              "      <td>-0.076202</td>\n",
              "      <td>0.037187</td>\n",
              "      <td>0.117883</td>\n",
              "      <td>0.006746</td>\n",
              "      <td>-0.043112</td>\n",
              "      <td>0.080917</td>\n",
              "      <td>-0.078818</td>\n",
              "      <td>0.035082</td>\n",
              "      <td>-0.166258</td>\n",
              "      <td>-0.004466</td>\n",
              "      <td>-0.236243</td>\n",
              "      <td>-0.003569</td>\n",
              "      <td>-0.047031</td>\n",
              "    </tr>\n",
              "    <tr>\n",
              "      <th>On Thyroxine</th>\n",
              "      <td>-0.008367</td>\n",
              "      <td>-0.081450</td>\n",
              "      <td>1.000000</td>\n",
              "      <td>-0.000926</td>\n",
              "      <td>0.002649</td>\n",
              "      <td>-0.054187</td>\n",
              "      <td>0.009344</td>\n",
              "      <td>0.041605</td>\n",
              "      <td>0.084987</td>\n",
              "      <td>0.067247</td>\n",
              "      <td>-0.003853</td>\n",
              "      <td>0.004240</td>\n",
              "      <td>-0.009662</td>\n",
              "      <td>-0.034566</td>\n",
              "      <td>-0.008605</td>\n",
              "      <td>-0.070955</td>\n",
              "      <td>0.016275</td>\n",
              "      <td>0.018094</td>\n",
              "      <td>-0.169967</td>\n",
              "      <td>0.032834</td>\n",
              "      <td>-0.014113</td>\n",
              "      <td>0.175146</td>\n",
              "      <td>0.005001</td>\n",
              "      <td>0.059515</td>\n",
              "      <td>0.004250</td>\n",
              "      <td>0.135948</td>\n",
              "    </tr>\n",
              "    <tr>\n",
              "      <th>Query on Thyroxine</th>\n",
              "      <td>-0.027613</td>\n",
              "      <td>0.037623</td>\n",
              "      <td>-0.000926</td>\n",
              "      <td>1.000000</td>\n",
              "      <td>-0.012891</td>\n",
              "      <td>0.023781</td>\n",
              "      <td>0.028389</td>\n",
              "      <td>0.008892</td>\n",
              "      <td>-0.016360</td>\n",
              "      <td>-0.032564</td>\n",
              "      <td>-0.011204</td>\n",
              "      <td>-0.008690</td>\n",
              "      <td>0.073007</td>\n",
              "      <td>-0.005507</td>\n",
              "      <td>0.202660</td>\n",
              "      <td>-0.026992</td>\n",
              "      <td>-0.128260</td>\n",
              "      <td>-0.015267</td>\n",
              "      <td>-0.041248</td>\n",
              "      <td>-0.026809</td>\n",
              "      <td>0.026413</td>\n",
              "      <td>-0.017155</td>\n",
              "      <td>0.028498</td>\n",
              "      <td>-0.011807</td>\n",
              "      <td>0.028319</td>\n",
              "      <td>-0.012465</td>\n",
              "    </tr>\n",
              "    <tr>\n",
              "      <th>On Antithyroid Medication</th>\n",
              "      <td>-0.060207</td>\n",
              "      <td>-0.027244</td>\n",
              "      <td>0.002649</td>\n",
              "      <td>-0.012891</td>\n",
              "      <td>1.000000</td>\n",
              "      <td>-0.022426</td>\n",
              "      <td>0.063103</td>\n",
              "      <td>-0.011901</td>\n",
              "      <td>0.008970</td>\n",
              "      <td>-0.015647</td>\n",
              "      <td>0.094996</td>\n",
              "      <td>-0.007406</td>\n",
              "      <td>-0.009637</td>\n",
              "      <td>-0.017871</td>\n",
              "      <td>-0.002613</td>\n",
              "      <td>-0.023002</td>\n",
              "      <td>-0.003557</td>\n",
              "      <td>-0.016377</td>\n",
              "      <td>0.010847</td>\n",
              "      <td>0.078242</td>\n",
              "      <td>-0.035842</td>\n",
              "      <td>-0.000504</td>\n",
              "      <td>-0.032106</td>\n",
              "      <td>0.064427</td>\n",
              "      <td>-0.032446</td>\n",
              "      <td>-0.038709</td>\n",
              "    </tr>\n",
              "    <tr>\n",
              "      <th>Sick</th>\n",
              "      <td>0.083034</td>\n",
              "      <td>0.010154</td>\n",
              "      <td>-0.054187</td>\n",
              "      <td>0.023781</td>\n",
              "      <td>-0.022426</td>\n",
              "      <td>1.000000</td>\n",
              "      <td>-0.025754</td>\n",
              "      <td>-0.024295</td>\n",
              "      <td>-0.028460</td>\n",
              "      <td>0.053747</td>\n",
              "      <td>-0.031120</td>\n",
              "      <td>-0.015118</td>\n",
              "      <td>-0.019672</td>\n",
              "      <td>-0.018166</td>\n",
              "      <td>-0.005333</td>\n",
              "      <td>-0.003470</td>\n",
              "      <td>0.021742</td>\n",
              "      <td>-0.027311</td>\n",
              "      <td>0.034481</td>\n",
              "      <td>-0.105931</td>\n",
              "      <td>-0.005795</td>\n",
              "      <td>-0.043429</td>\n",
              "      <td>0.000444</td>\n",
              "      <td>-0.065227</td>\n",
              "      <td>-0.000030</td>\n",
              "      <td>-0.014251</td>\n",
              "    </tr>\n",
              "    <tr>\n",
              "      <th>Pregnant</th>\n",
              "      <td>-0.116033</td>\n",
              "      <td>-0.083087</td>\n",
              "      <td>0.009344</td>\n",
              "      <td>0.028389</td>\n",
              "      <td>0.063103</td>\n",
              "      <td>-0.025754</td>\n",
              "      <td>1.000000</td>\n",
              "      <td>-0.013667</td>\n",
              "      <td>-0.016011</td>\n",
              "      <td>-0.021293</td>\n",
              "      <td>0.118261</td>\n",
              "      <td>-0.008505</td>\n",
              "      <td>-0.011067</td>\n",
              "      <td>0.153192</td>\n",
              "      <td>-0.003000</td>\n",
              "      <td>-0.013918</td>\n",
              "      <td>-0.004647</td>\n",
              "      <td>-0.025788</td>\n",
              "      <td>0.016325</td>\n",
              "      <td>0.176138</td>\n",
              "      <td>0.025849</td>\n",
              "      <td>0.182689</td>\n",
              "      <td>0.036848</td>\n",
              "      <td>0.341664</td>\n",
              "      <td>0.036702</td>\n",
              "      <td>0.007705</td>\n",
              "    </tr>\n",
              "    <tr>\n",
              "      <th>Thyroid Surgery</th>\n",
              "      <td>-0.039668</td>\n",
              "      <td>-0.042861</td>\n",
              "      <td>0.041605</td>\n",
              "      <td>0.008892</td>\n",
              "      <td>-0.011901</td>\n",
              "      <td>-0.024295</td>\n",
              "      <td>-0.013667</td>\n",
              "      <td>1.000000</td>\n",
              "      <td>-0.015104</td>\n",
              "      <td>-0.018870</td>\n",
              "      <td>0.015596</td>\n",
              "      <td>-0.008023</td>\n",
              "      <td>-0.010440</td>\n",
              "      <td>-0.002646</td>\n",
              "      <td>-0.002830</td>\n",
              "      <td>-0.024919</td>\n",
              "      <td>0.032723</td>\n",
              "      <td>0.035600</td>\n",
              "      <td>-0.025095</td>\n",
              "      <td>-0.017347</td>\n",
              "      <td>0.024385</td>\n",
              "      <td>-0.028172</td>\n",
              "      <td>-0.004817</td>\n",
              "      <td>0.029365</td>\n",
              "      <td>-0.005085</td>\n",
              "      <td>-0.038799</td>\n",
              "    </tr>\n",
              "    <tr>\n",
              "      <th>I131 Treatment</th>\n",
              "      <td>0.042425</td>\n",
              "      <td>-0.031486</td>\n",
              "      <td>0.084987</td>\n",
              "      <td>-0.016360</td>\n",
              "      <td>0.008970</td>\n",
              "      <td>-0.028460</td>\n",
              "      <td>-0.016011</td>\n",
              "      <td>-0.015104</td>\n",
              "      <td>1.000000</td>\n",
              "      <td>0.041584</td>\n",
              "      <td>0.081727</td>\n",
              "      <td>-0.009398</td>\n",
              "      <td>-0.012230</td>\n",
              "      <td>-0.022681</td>\n",
              "      <td>-0.003316</td>\n",
              "      <td>-0.029192</td>\n",
              "      <td>0.038334</td>\n",
              "      <td>0.002754</td>\n",
              "      <td>-0.023103</td>\n",
              "      <td>0.029187</td>\n",
              "      <td>0.028566</td>\n",
              "      <td>-0.010189</td>\n",
              "      <td>0.023749</td>\n",
              "      <td>0.013455</td>\n",
              "      <td>0.023531</td>\n",
              "      <td>-0.019899</td>\n",
              "    </tr>\n",
              "    <tr>\n",
              "      <th>Query Hypothyroid</th>\n",
              "      <td>0.016482</td>\n",
              "      <td>-0.022117</td>\n",
              "      <td>0.067247</td>\n",
              "      <td>-0.032564</td>\n",
              "      <td>-0.015647</td>\n",
              "      <td>0.053747</td>\n",
              "      <td>-0.021293</td>\n",
              "      <td>-0.018870</td>\n",
              "      <td>0.041584</td>\n",
              "      <td>1.000000</td>\n",
              "      <td>0.007721</td>\n",
              "      <td>-0.018707</td>\n",
              "      <td>-0.024343</td>\n",
              "      <td>-0.045145</td>\n",
              "      <td>-0.006600</td>\n",
              "      <td>0.007820</td>\n",
              "      <td>0.048008</td>\n",
              "      <td>0.043893</td>\n",
              "      <td>-0.079258</td>\n",
              "      <td>-0.081303</td>\n",
              "      <td>0.007959</td>\n",
              "      <td>-0.042150</td>\n",
              "      <td>-0.017573</td>\n",
              "      <td>0.001297</td>\n",
              "      <td>-0.018220</td>\n",
              "      <td>-0.040930</td>\n",
              "    </tr>\n",
              "    <tr>\n",
              "      <th>Query Hyperthyroid</th>\n",
              "      <td>-0.034982</td>\n",
              "      <td>-0.077522</td>\n",
              "      <td>-0.003853</td>\n",
              "      <td>-0.011204</td>\n",
              "      <td>0.094996</td>\n",
              "      <td>-0.031120</td>\n",
              "      <td>0.118261</td>\n",
              "      <td>0.015596</td>\n",
              "      <td>0.081727</td>\n",
              "      <td>0.007721</td>\n",
              "      <td>1.000000</td>\n",
              "      <td>0.053725</td>\n",
              "      <td>-0.024033</td>\n",
              "      <td>0.047328</td>\n",
              "      <td>-0.006515</td>\n",
              "      <td>-0.057364</td>\n",
              "      <td>-0.043886</td>\n",
              "      <td>-0.026015</td>\n",
              "      <td>0.035024</td>\n",
              "      <td>0.230383</td>\n",
              "      <td>-0.048944</td>\n",
              "      <td>0.198238</td>\n",
              "      <td>-0.010646</td>\n",
              "      <td>0.081521</td>\n",
              "      <td>-0.011263</td>\n",
              "      <td>0.178560</td>\n",
              "    </tr>\n",
              "    <tr>\n",
              "      <th>Lithium</th>\n",
              "      <td>-0.036091</td>\n",
              "      <td>-0.029968</td>\n",
              "      <td>0.004240</td>\n",
              "      <td>-0.008690</td>\n",
              "      <td>-0.007406</td>\n",
              "      <td>-0.015118</td>\n",
              "      <td>-0.008505</td>\n",
              "      <td>-0.008023</td>\n",
              "      <td>-0.009398</td>\n",
              "      <td>-0.018707</td>\n",
              "      <td>0.053725</td>\n",
              "      <td>1.000000</td>\n",
              "      <td>-0.006496</td>\n",
              "      <td>-0.012047</td>\n",
              "      <td>-0.001761</td>\n",
              "      <td>0.026677</td>\n",
              "      <td>0.020362</td>\n",
              "      <td>-0.010097</td>\n",
              "      <td>-0.000848</td>\n",
              "      <td>0.001613</td>\n",
              "      <td>0.015173</td>\n",
              "      <td>-0.019366</td>\n",
              "      <td>0.021630</td>\n",
              "      <td>0.003351</td>\n",
              "      <td>0.021544</td>\n",
              "      <td>-0.025260</td>\n",
              "    </tr>\n",
              "    <tr>\n",
              "      <th>Goitre</th>\n",
              "      <td>-0.035829</td>\n",
              "      <td>0.032781</td>\n",
              "      <td>-0.009662</td>\n",
              "      <td>0.073007</td>\n",
              "      <td>-0.009637</td>\n",
              "      <td>-0.019672</td>\n",
              "      <td>-0.011067</td>\n",
              "      <td>-0.010440</td>\n",
              "      <td>-0.012230</td>\n",
              "      <td>-0.024343</td>\n",
              "      <td>-0.024033</td>\n",
              "      <td>-0.006496</td>\n",
              "      <td>1.000000</td>\n",
              "      <td>-0.015677</td>\n",
              "      <td>-0.002292</td>\n",
              "      <td>-0.003913</td>\n",
              "      <td>-0.050288</td>\n",
              "      <td>-0.017538</td>\n",
              "      <td>-0.035790</td>\n",
              "      <td>0.000296</td>\n",
              "      <td>0.003157</td>\n",
              "      <td>-0.039838</td>\n",
              "      <td>0.015981</td>\n",
              "      <td>0.005259</td>\n",
              "      <td>0.015829</td>\n",
              "      <td>-0.046561</td>\n",
              "    </tr>\n",
              "    <tr>\n",
              "      <th>Tumor</th>\n",
              "      <td>-0.035816</td>\n",
              "      <td>-0.076202</td>\n",
              "      <td>-0.034566</td>\n",
              "      <td>-0.005507</td>\n",
              "      <td>-0.017871</td>\n",
              "      <td>-0.018166</td>\n",
              "      <td>0.153192</td>\n",
              "      <td>-0.002646</td>\n",
              "      <td>-0.022681</td>\n",
              "      <td>-0.045145</td>\n",
              "      <td>0.047328</td>\n",
              "      <td>-0.012047</td>\n",
              "      <td>-0.015677</td>\n",
              "      <td>1.000000</td>\n",
              "      <td>-0.004250</td>\n",
              "      <td>-0.028470</td>\n",
              "      <td>-0.049445</td>\n",
              "      <td>-0.021353</td>\n",
              "      <td>-0.006590</td>\n",
              "      <td>0.137224</td>\n",
              "      <td>-0.036402</td>\n",
              "      <td>0.051143</td>\n",
              "      <td>-0.014744</td>\n",
              "      <td>0.079948</td>\n",
              "      <td>-0.015172</td>\n",
              "      <td>0.022634</td>\n",
              "    </tr>\n",
              "    <tr>\n",
              "      <th>Hypopituitary</th>\n",
              "      <td>-0.038576</td>\n",
              "      <td>0.037187</td>\n",
              "      <td>-0.008605</td>\n",
              "      <td>0.202660</td>\n",
              "      <td>-0.002613</td>\n",
              "      <td>-0.005333</td>\n",
              "      <td>-0.003000</td>\n",
              "      <td>-0.002830</td>\n",
              "      <td>-0.003316</td>\n",
              "      <td>-0.006600</td>\n",
              "      <td>-0.006515</td>\n",
              "      <td>-0.001761</td>\n",
              "      <td>-0.002292</td>\n",
              "      <td>-0.004250</td>\n",
              "      <td>1.000000</td>\n",
              "      <td>-0.005470</td>\n",
              "      <td>0.007183</td>\n",
              "      <td>-0.006088</td>\n",
              "      <td>0.011792</td>\n",
              "      <td>-0.019700</td>\n",
              "      <td>0.005353</td>\n",
              "      <td>-0.035234</td>\n",
              "      <td>0.007631</td>\n",
              "      <td>0.010737</td>\n",
              "      <td>0.007600</td>\n",
              "      <td>-0.041379</td>\n",
              "    </tr>\n",
              "    <tr>\n",
              "      <th>Psych</th>\n",
              "      <td>-0.073710</td>\n",
              "      <td>0.117883</td>\n",
              "      <td>-0.070955</td>\n",
              "      <td>-0.026992</td>\n",
              "      <td>-0.023002</td>\n",
              "      <td>-0.003470</td>\n",
              "      <td>-0.013918</td>\n",
              "      <td>-0.024919</td>\n",
              "      <td>-0.029192</td>\n",
              "      <td>0.007820</td>\n",
              "      <td>-0.057364</td>\n",
              "      <td>0.026677</td>\n",
              "      <td>-0.003913</td>\n",
              "      <td>-0.028470</td>\n",
              "      <td>-0.005470</td>\n",
              "      <td>1.000000</td>\n",
              "      <td>0.063245</td>\n",
              "      <td>-0.034588</td>\n",
              "      <td>0.096144</td>\n",
              "      <td>0.013496</td>\n",
              "      <td>0.047129</td>\n",
              "      <td>0.003996</td>\n",
              "      <td>0.040695</td>\n",
              "      <td>-0.020407</td>\n",
              "      <td>0.040341</td>\n",
              "      <td>0.013365</td>\n",
              "    </tr>\n",
              "    <tr>\n",
              "      <th>TSH Measured</th>\n",
              "      <td>0.092744</td>\n",
              "      <td>0.006746</td>\n",
              "      <td>0.016275</td>\n",
              "      <td>-0.128260</td>\n",
              "      <td>-0.003557</td>\n",
              "      <td>0.021742</td>\n",
              "      <td>-0.004647</td>\n",
              "      <td>0.032723</td>\n",
              "      <td>0.038334</td>\n",
              "      <td>0.048008</td>\n",
              "      <td>-0.043886</td>\n",
              "      <td>0.020362</td>\n",
              "      <td>-0.050288</td>\n",
              "      <td>-0.049445</td>\n",
              "      <td>0.007183</td>\n",
              "      <td>0.063245</td>\n",
              "      <td>1.000000</td>\n",
              "      <td>NaN</td>\n",
              "      <td>0.373773</td>\n",
              "      <td>-0.075178</td>\n",
              "      <td>0.586040</td>\n",
              "      <td>-0.022509</td>\n",
              "      <td>0.407821</td>\n",
              "      <td>0.013895</td>\n",
              "      <td>0.409809</td>\n",
              "      <td>-0.026267</td>\n",
              "    </tr>\n",
              "    <tr>\n",
              "      <th>TSH</th>\n",
              "      <td>-0.076631</td>\n",
              "      <td>-0.043112</td>\n",
              "      <td>0.018094</td>\n",
              "      <td>-0.015267</td>\n",
              "      <td>-0.016377</td>\n",
              "      <td>-0.027311</td>\n",
              "      <td>-0.025788</td>\n",
              "      <td>0.035600</td>\n",
              "      <td>0.002754</td>\n",
              "      <td>0.043893</td>\n",
              "      <td>-0.026015</td>\n",
              "      <td>-0.010097</td>\n",
              "      <td>-0.017538</td>\n",
              "      <td>-0.021353</td>\n",
              "      <td>-0.006088</td>\n",
              "      <td>-0.034588</td>\n",
              "      <td>NaN</td>\n",
              "      <td>1.000000</td>\n",
              "      <td>-0.011339</td>\n",
              "      <td>-0.176044</td>\n",
              "      <td>-0.009909</td>\n",
              "      <td>-0.289527</td>\n",
              "      <td>-0.008955</td>\n",
              "      <td>0.085338</td>\n",
              "      <td>-0.009618</td>\n",
              "      <td>-0.321130</td>\n",
              "    </tr>\n",
              "    <tr>\n",
              "      <th>T3 Measured</th>\n",
              "      <td>0.077409</td>\n",
              "      <td>0.080917</td>\n",
              "      <td>-0.169967</td>\n",
              "      <td>-0.041248</td>\n",
              "      <td>0.010847</td>\n",
              "      <td>0.034481</td>\n",
              "      <td>0.016325</td>\n",
              "      <td>-0.025095</td>\n",
              "      <td>-0.023103</td>\n",
              "      <td>-0.079258</td>\n",
              "      <td>0.035024</td>\n",
              "      <td>-0.000848</td>\n",
              "      <td>-0.035790</td>\n",
              "      <td>-0.006590</td>\n",
              "      <td>0.011792</td>\n",
              "      <td>0.096144</td>\n",
              "      <td>0.373773</td>\n",
              "      <td>-0.011339</td>\n",
              "      <td>1.000000</td>\n",
              "      <td>NaN</td>\n",
              "      <td>0.344421</td>\n",
              "      <td>-0.051761</td>\n",
              "      <td>0.188032</td>\n",
              "      <td>-0.021171</td>\n",
              "      <td>0.189706</td>\n",
              "      <td>-0.034986</td>\n",
              "    </tr>\n",
              "    <tr>\n",
              "      <th>T3</th>\n",
              "      <td>-0.251273</td>\n",
              "      <td>-0.078818</td>\n",
              "      <td>0.032834</td>\n",
              "      <td>-0.026809</td>\n",
              "      <td>0.078242</td>\n",
              "      <td>-0.105931</td>\n",
              "      <td>0.176138</td>\n",
              "      <td>-0.017347</td>\n",
              "      <td>0.029187</td>\n",
              "      <td>-0.081303</td>\n",
              "      <td>0.230383</td>\n",
              "      <td>0.001613</td>\n",
              "      <td>0.000296</td>\n",
              "      <td>0.137224</td>\n",
              "      <td>-0.019700</td>\n",
              "      <td>0.013496</td>\n",
              "      <td>-0.075178</td>\n",
              "      <td>-0.176044</td>\n",
              "      <td>NaN</td>\n",
              "      <td>1.000000</td>\n",
              "      <td>-0.022836</td>\n",
              "      <td>0.601815</td>\n",
              "      <td>0.007768</td>\n",
              "      <td>0.435980</td>\n",
              "      <td>0.006735</td>\n",
              "      <td>0.429994</td>\n",
              "    </tr>\n",
              "    <tr>\n",
              "      <th>TT4 Measured</th>\n",
              "      <td>0.059131</td>\n",
              "      <td>0.035082</td>\n",
              "      <td>-0.014113</td>\n",
              "      <td>0.026413</td>\n",
              "      <td>-0.035842</td>\n",
              "      <td>-0.005795</td>\n",
              "      <td>0.025849</td>\n",
              "      <td>0.024385</td>\n",
              "      <td>0.028566</td>\n",
              "      <td>0.007959</td>\n",
              "      <td>-0.048944</td>\n",
              "      <td>0.015173</td>\n",
              "      <td>0.003157</td>\n",
              "      <td>-0.036402</td>\n",
              "      <td>0.005353</td>\n",
              "      <td>0.047129</td>\n",
              "      <td>0.586040</td>\n",
              "      <td>-0.009909</td>\n",
              "      <td>0.344421</td>\n",
              "      <td>-0.022836</td>\n",
              "      <td>1.000000</td>\n",
              "      <td>NaN</td>\n",
              "      <td>0.696096</td>\n",
              "      <td>0.005683</td>\n",
              "      <td>0.693452</td>\n",
              "      <td>0.004964</td>\n",
              "    </tr>\n",
              "    <tr>\n",
              "      <th>TT4</th>\n",
              "      <td>-0.060948</td>\n",
              "      <td>-0.166258</td>\n",
              "      <td>0.175146</td>\n",
              "      <td>-0.017155</td>\n",
              "      <td>-0.000504</td>\n",
              "      <td>-0.043429</td>\n",
              "      <td>0.182689</td>\n",
              "      <td>-0.028172</td>\n",
              "      <td>-0.010189</td>\n",
              "      <td>-0.042150</td>\n",
              "      <td>0.198238</td>\n",
              "      <td>-0.019366</td>\n",
              "      <td>-0.039838</td>\n",
              "      <td>0.051143</td>\n",
              "      <td>-0.035234</td>\n",
              "      <td>0.003996</td>\n",
              "      <td>-0.022509</td>\n",
              "      <td>-0.289527</td>\n",
              "      <td>-0.051761</td>\n",
              "      <td>0.601815</td>\n",
              "      <td>NaN</td>\n",
              "      <td>1.000000</td>\n",
              "      <td>0.058562</td>\n",
              "      <td>0.371222</td>\n",
              "      <td>0.056243</td>\n",
              "      <td>0.833907</td>\n",
              "    </tr>\n",
              "    <tr>\n",
              "      <th>T4U Measured</th>\n",
              "      <td>0.088681</td>\n",
              "      <td>-0.004466</td>\n",
              "      <td>0.005001</td>\n",
              "      <td>0.028498</td>\n",
              "      <td>-0.032106</td>\n",
              "      <td>0.000444</td>\n",
              "      <td>0.036848</td>\n",
              "      <td>-0.004817</td>\n",
              "      <td>0.023749</td>\n",
              "      <td>-0.017573</td>\n",
              "      <td>-0.010646</td>\n",
              "      <td>0.021630</td>\n",
              "      <td>0.015981</td>\n",
              "      <td>-0.014744</td>\n",
              "      <td>0.007631</td>\n",
              "      <td>0.040695</td>\n",
              "      <td>0.407821</td>\n",
              "      <td>-0.008955</td>\n",
              "      <td>0.188032</td>\n",
              "      <td>0.007768</td>\n",
              "      <td>0.696096</td>\n",
              "      <td>0.058562</td>\n",
              "      <td>1.000000</td>\n",
              "      <td>NaN</td>\n",
              "      <td>0.996032</td>\n",
              "      <td>0.007739</td>\n",
              "    </tr>\n",
              "    <tr>\n",
              "      <th>T4U</th>\n",
              "      <td>-0.189604</td>\n",
              "      <td>-0.236243</td>\n",
              "      <td>0.059515</td>\n",
              "      <td>-0.011807</td>\n",
              "      <td>0.064427</td>\n",
              "      <td>-0.065227</td>\n",
              "      <td>0.341664</td>\n",
              "      <td>0.029365</td>\n",
              "      <td>0.013455</td>\n",
              "      <td>0.001297</td>\n",
              "      <td>0.081521</td>\n",
              "      <td>0.003351</td>\n",
              "      <td>0.005259</td>\n",
              "      <td>0.079948</td>\n",
              "      <td>0.010737</td>\n",
              "      <td>-0.020407</td>\n",
              "      <td>0.013895</td>\n",
              "      <td>0.085338</td>\n",
              "      <td>-0.021171</td>\n",
              "      <td>0.435980</td>\n",
              "      <td>0.005683</td>\n",
              "      <td>0.371222</td>\n",
              "      <td>NaN</td>\n",
              "      <td>1.000000</td>\n",
              "      <td>NaN</td>\n",
              "      <td>-0.172715</td>\n",
              "    </tr>\n",
              "    <tr>\n",
              "      <th>FTI Measured</th>\n",
              "      <td>0.087605</td>\n",
              "      <td>-0.003569</td>\n",
              "      <td>0.004250</td>\n",
              "      <td>0.028319</td>\n",
              "      <td>-0.032446</td>\n",
              "      <td>-0.000030</td>\n",
              "      <td>0.036702</td>\n",
              "      <td>-0.005085</td>\n",
              "      <td>0.023531</td>\n",
              "      <td>-0.018220</td>\n",
              "      <td>-0.011263</td>\n",
              "      <td>0.021544</td>\n",
              "      <td>0.015829</td>\n",
              "      <td>-0.015172</td>\n",
              "      <td>0.007600</td>\n",
              "      <td>0.040341</td>\n",
              "      <td>0.409809</td>\n",
              "      <td>-0.009618</td>\n",
              "      <td>0.189706</td>\n",
              "      <td>0.006735</td>\n",
              "      <td>0.693452</td>\n",
              "      <td>0.056243</td>\n",
              "      <td>0.996032</td>\n",
              "      <td>NaN</td>\n",
              "      <td>1.000000</td>\n",
              "      <td>NaN</td>\n",
              "    </tr>\n",
              "    <tr>\n",
              "      <th>FTI</th>\n",
              "      <td>0.028542</td>\n",
              "      <td>-0.047031</td>\n",
              "      <td>0.135948</td>\n",
              "      <td>-0.012465</td>\n",
              "      <td>-0.038709</td>\n",
              "      <td>-0.014251</td>\n",
              "      <td>0.007705</td>\n",
              "      <td>-0.038799</td>\n",
              "      <td>-0.019899</td>\n",
              "      <td>-0.040930</td>\n",
              "      <td>0.178560</td>\n",
              "      <td>-0.025260</td>\n",
              "      <td>-0.046561</td>\n",
              "      <td>0.022634</td>\n",
              "      <td>-0.041379</td>\n",
              "      <td>0.013365</td>\n",
              "      <td>-0.026267</td>\n",
              "      <td>-0.321130</td>\n",
              "      <td>-0.034986</td>\n",
              "      <td>0.429994</td>\n",
              "      <td>0.004964</td>\n",
              "      <td>0.833907</td>\n",
              "      <td>0.007739</td>\n",
              "      <td>-0.172715</td>\n",
              "      <td>NaN</td>\n",
              "      <td>1.000000</td>\n",
              "    </tr>\n",
              "  </tbody>\n",
              "</table>\n",
              "</div>"
            ],
            "text/plain": [
              "                                Age       Sex  ...  FTI Measured       FTI\n",
              "Age                        1.000000 -0.003208  ...      0.087605  0.028542\n",
              "Sex                       -0.003208  1.000000  ...     -0.003569 -0.047031\n",
              "On Thyroxine              -0.008367 -0.081450  ...      0.004250  0.135948\n",
              "Query on Thyroxine        -0.027613  0.037623  ...      0.028319 -0.012465\n",
              "On Antithyroid Medication -0.060207 -0.027244  ...     -0.032446 -0.038709\n",
              "Sick                       0.083034  0.010154  ...     -0.000030 -0.014251\n",
              "Pregnant                  -0.116033 -0.083087  ...      0.036702  0.007705\n",
              "Thyroid Surgery           -0.039668 -0.042861  ...     -0.005085 -0.038799\n",
              "I131 Treatment             0.042425 -0.031486  ...      0.023531 -0.019899\n",
              "Query Hypothyroid          0.016482 -0.022117  ...     -0.018220 -0.040930\n",
              "Query Hyperthyroid        -0.034982 -0.077522  ...     -0.011263  0.178560\n",
              "Lithium                   -0.036091 -0.029968  ...      0.021544 -0.025260\n",
              "Goitre                    -0.035829  0.032781  ...      0.015829 -0.046561\n",
              "Tumor                     -0.035816 -0.076202  ...     -0.015172  0.022634\n",
              "Hypopituitary             -0.038576  0.037187  ...      0.007600 -0.041379\n",
              "Psych                     -0.073710  0.117883  ...      0.040341  0.013365\n",
              "TSH Measured               0.092744  0.006746  ...      0.409809 -0.026267\n",
              "TSH                       -0.076631 -0.043112  ...     -0.009618 -0.321130\n",
              "T3 Measured                0.077409  0.080917  ...      0.189706 -0.034986\n",
              "T3                        -0.251273 -0.078818  ...      0.006735  0.429994\n",
              "TT4 Measured               0.059131  0.035082  ...      0.693452  0.004964\n",
              "TT4                       -0.060948 -0.166258  ...      0.056243  0.833907\n",
              "T4U Measured               0.088681 -0.004466  ...      0.996032  0.007739\n",
              "T4U                       -0.189604 -0.236243  ...           NaN -0.172715\n",
              "FTI Measured               0.087605 -0.003569  ...      1.000000       NaN\n",
              "FTI                        0.028542 -0.047031  ...           NaN  1.000000\n",
              "\n",
              "[26 rows x 26 columns]"
            ]
          },
          "metadata": {},
          "execution_count": 21
        }
      ]
    },
    {
      "cell_type": "code",
      "metadata": {
        "colab": {
          "base_uri": "https://localhost:8080/",
          "height": 404
        },
        "id": "7CfL-Pv_WJG0",
        "outputId": "7f2b0c65-7816-443a-de36-fc81a908b293"
      },
      "source": [
        "sns.heatmap(round(full_data.corr(), 1),annot=True,cmap='viridis')\n",
        "sns.set(rc={'figure.figsize':(20,20)})\n",
        "plt.title('Heatmap of co-relation',fontsize=15)\n",
        "plt.show()"
      ],
      "execution_count": 22,
      "outputs": [
        {
          "output_type": "display_data",
          "data": {
            "image/png": "[encoded data removed]",
            "text/plain": [
              "<Figure size 432x288 with 2 Axes>"
            ]
          },
          "metadata": {
            "needs_background": "light"
          }
        }
      ]
    },
    {
      "cell_type": "code",
      "metadata": {
        "id": "KcGcVds-WMhF"
      },
      "source": [
        "from sklearn.impute import SimpleImputer\n",
        "\n",
        "curr_columns = full_data.columns.difference(['Category'])\n",
        "\n",
        "imputer = SimpleImputer(missing_values=np.nan, strategy='median')\n",
        "imputed_data = imputer.fit_transform(full_data.drop('Category', axis=1))\n",
        "imputed_data = pd.DataFrame(imputed_data, columns=curr_columns)\n",
        "\n",
        "full_data = pd.concat([\n",
        "                    imputed_data.reset_index(), \n",
        "                    full_data['Category'].reset_index()], \n",
        "                    axis=1).drop('index', axis=1)"
      ],
      "execution_count": 23,
      "outputs": []
    },
    {
      "cell_type": "code",
      "metadata": {
        "colab": {
          "base_uri": "https://localhost:8080/",
          "height": 258
        },
        "id": "vY7oo3RXWPue",
        "outputId": "650bc4d0-db54-45c5-c1e3-977d815e10d6"
      },
      "source": [
        "full_data.head()"
      ],
      "execution_count": 24,
      "outputs": [
        {
          "output_type": "execute_result",
          "data": {
            "text/html": [
              "<div>\n",
              "<style scoped>\n",
              "    .dataframe tbody tr th:only-of-type {\n",
              "        vertical-align: middle;\n",
              "    }\n",
              "\n",
              "    .dataframe tbody tr th {\n",
              "        vertical-align: top;\n",
              "    }\n",
              "\n",
              "    .dataframe thead th {\n",
              "        text-align: right;\n",
              "    }\n",
              "</style>\n",
              "<table border=\"1\" class=\"dataframe\">\n",
              "  <thead>\n",
              "    <tr style=\"text-align: right;\">\n",
              "      <th></th>\n",
              "      <th>Age</th>\n",
              "      <th>FTI</th>\n",
              "      <th>FTI Measured</th>\n",
              "      <th>Goitre</th>\n",
              "      <th>Hypopituitary</th>\n",
              "      <th>I131 Treatment</th>\n",
              "      <th>Lithium</th>\n",
              "      <th>On Antithyroid Medication</th>\n",
              "      <th>On Thyroxine</th>\n",
              "      <th>Pregnant</th>\n",
              "      <th>Psych</th>\n",
              "      <th>Query Hyperthyroid</th>\n",
              "      <th>Query Hypothyroid</th>\n",
              "      <th>Query on Thyroxine</th>\n",
              "      <th>Sex</th>\n",
              "      <th>Sick</th>\n",
              "      <th>T3</th>\n",
              "      <th>T3 Measured</th>\n",
              "      <th>T4U</th>\n",
              "      <th>T4U Measured</th>\n",
              "      <th>TSH</th>\n",
              "      <th>TSH Measured</th>\n",
              "      <th>TT4</th>\n",
              "      <th>TT4 Measured</th>\n",
              "      <th>Thyroid Surgery</th>\n",
              "      <th>Tumor</th>\n",
              "      <th>Category</th>\n",
              "    </tr>\n",
              "  </thead>\n",
              "  <tbody>\n",
              "    <tr>\n",
              "      <th>0</th>\n",
              "      <td>41.0</td>\n",
              "      <td>0.0</td>\n",
              "      <td>0.0</td>\n",
              "      <td>0.0</td>\n",
              "      <td>0.0</td>\n",
              "      <td>0.0</td>\n",
              "      <td>0.0</td>\n",
              "      <td>0.0</td>\n",
              "      <td>0.0</td>\n",
              "      <td>0.0</td>\n",
              "      <td>0.0</td>\n",
              "      <td>0.0</td>\n",
              "      <td>0.0</td>\n",
              "      <td>0.0</td>\n",
              "      <td>0.0</td>\n",
              "      <td>0.0</td>\n",
              "      <td>1.0</td>\n",
              "      <td>1.30</td>\n",
              "      <td>1.0</td>\n",
              "      <td>2.5</td>\n",
              "      <td>1.0</td>\n",
              "      <td>125.0</td>\n",
              "      <td>1.0</td>\n",
              "      <td>1.14</td>\n",
              "      <td>1.0</td>\n",
              "      <td>109.0</td>\n",
              "      <td>negative</td>\n",
              "    </tr>\n",
              "    <tr>\n",
              "      <th>1</th>\n",
              "      <td>23.0</td>\n",
              "      <td>0.0</td>\n",
              "      <td>0.0</td>\n",
              "      <td>0.0</td>\n",
              "      <td>0.0</td>\n",
              "      <td>0.0</td>\n",
              "      <td>0.0</td>\n",
              "      <td>0.0</td>\n",
              "      <td>0.0</td>\n",
              "      <td>0.0</td>\n",
              "      <td>0.0</td>\n",
              "      <td>0.0</td>\n",
              "      <td>0.0</td>\n",
              "      <td>0.0</td>\n",
              "      <td>0.0</td>\n",
              "      <td>0.0</td>\n",
              "      <td>1.0</td>\n",
              "      <td>4.10</td>\n",
              "      <td>1.0</td>\n",
              "      <td>2.0</td>\n",
              "      <td>1.0</td>\n",
              "      <td>102.0</td>\n",
              "      <td>0.0</td>\n",
              "      <td>0.97</td>\n",
              "      <td>0.0</td>\n",
              "      <td>106.0</td>\n",
              "      <td>negative</td>\n",
              "    </tr>\n",
              "    <tr>\n",
              "      <th>2</th>\n",
              "      <td>46.0</td>\n",
              "      <td>1.0</td>\n",
              "      <td>0.0</td>\n",
              "      <td>0.0</td>\n",
              "      <td>0.0</td>\n",
              "      <td>0.0</td>\n",
              "      <td>0.0</td>\n",
              "      <td>0.0</td>\n",
              "      <td>0.0</td>\n",
              "      <td>0.0</td>\n",
              "      <td>0.0</td>\n",
              "      <td>0.0</td>\n",
              "      <td>0.0</td>\n",
              "      <td>0.0</td>\n",
              "      <td>0.0</td>\n",
              "      <td>0.0</td>\n",
              "      <td>1.0</td>\n",
              "      <td>0.98</td>\n",
              "      <td>0.0</td>\n",
              "      <td>1.9</td>\n",
              "      <td>1.0</td>\n",
              "      <td>109.0</td>\n",
              "      <td>1.0</td>\n",
              "      <td>0.91</td>\n",
              "      <td>1.0</td>\n",
              "      <td>120.0</td>\n",
              "      <td>negative</td>\n",
              "    </tr>\n",
              "    <tr>\n",
              "      <th>3</th>\n",
              "      <td>70.0</td>\n",
              "      <td>0.0</td>\n",
              "      <td>1.0</td>\n",
              "      <td>0.0</td>\n",
              "      <td>0.0</td>\n",
              "      <td>0.0</td>\n",
              "      <td>0.0</td>\n",
              "      <td>0.0</td>\n",
              "      <td>0.0</td>\n",
              "      <td>0.0</td>\n",
              "      <td>0.0</td>\n",
              "      <td>0.0</td>\n",
              "      <td>0.0</td>\n",
              "      <td>0.0</td>\n",
              "      <td>0.0</td>\n",
              "      <td>0.0</td>\n",
              "      <td>1.0</td>\n",
              "      <td>0.16</td>\n",
              "      <td>1.0</td>\n",
              "      <td>1.9</td>\n",
              "      <td>1.0</td>\n",
              "      <td>175.0</td>\n",
              "      <td>0.0</td>\n",
              "      <td>0.97</td>\n",
              "      <td>0.0</td>\n",
              "      <td>106.0</td>\n",
              "      <td>negative</td>\n",
              "    </tr>\n",
              "    <tr>\n",
              "      <th>4</th>\n",
              "      <td>70.0</td>\n",
              "      <td>0.0</td>\n",
              "      <td>0.0</td>\n",
              "      <td>0.0</td>\n",
              "      <td>0.0</td>\n",
              "      <td>0.0</td>\n",
              "      <td>0.0</td>\n",
              "      <td>0.0</td>\n",
              "      <td>0.0</td>\n",
              "      <td>0.0</td>\n",
              "      <td>0.0</td>\n",
              "      <td>0.0</td>\n",
              "      <td>0.0</td>\n",
              "      <td>0.0</td>\n",
              "      <td>0.0</td>\n",
              "      <td>0.0</td>\n",
              "      <td>1.0</td>\n",
              "      <td>0.72</td>\n",
              "      <td>1.0</td>\n",
              "      <td>1.2</td>\n",
              "      <td>1.0</td>\n",
              "      <td>61.0</td>\n",
              "      <td>1.0</td>\n",
              "      <td>0.87</td>\n",
              "      <td>1.0</td>\n",
              "      <td>70.0</td>\n",
              "      <td>negative</td>\n",
              "    </tr>\n",
              "  </tbody>\n",
              "</table>\n",
              "</div>"
            ],
            "text/plain": [
              "    Age  FTI  FTI Measured  ...  Thyroid Surgery  Tumor  Category\n",
              "0  41.0  0.0           0.0  ...              1.0  109.0  negative\n",
              "1  23.0  0.0           0.0  ...              0.0  106.0  negative\n",
              "2  46.0  1.0           0.0  ...              1.0  120.0  negative\n",
              "3  70.0  0.0           1.0  ...              0.0  106.0  negative\n",
              "4  70.0  0.0           0.0  ...              1.0   70.0  negative\n",
              "\n",
              "[5 rows x 27 columns]"
            ]
          },
          "metadata": {},
          "execution_count": 24
        }
      ]
    },
    {
      "cell_type": "code",
      "metadata": {
        "id": "rVTIzwjQWUdH"
      },
      "source": [
        "from sklearn.model_selection import train_test_split, cross_val_score\n",
        "from sklearn.preprocessing import MinMaxScaler\n",
        "\n",
        "X = full_data.drop('Category', axis=1)\n",
        "y = full_data['Category']\n",
        "\n",
        "col_names = X.columns\n",
        "\n",
        "X_train, X_test, y_train, y_test = train_test_split(X, y, test_size=0.3, stratify=y)\n",
        "\n",
        "scaler = MinMaxScaler()\n",
        "X_train = pd.DataFrame(scaler.fit_transform(X_train))\n",
        "X_test = pd.DataFrame(scaler.transform(X_test))"
      ],
      "execution_count": 37,
      "outputs": []
    },
    {
      "cell_type": "code",
      "metadata": {
        "colab": {
          "base_uri": "https://localhost:8080/",
          "height": 575
        },
        "id": "jZ8JJGzbWWkV",
        "outputId": "af75a720-95ac-40d3-c9b0-3c3a0590113e"
      },
      "source": [
        "from sklearn.preprocessing import LabelEncoder\n",
        "from sklearn.decomposition import PCA\n",
        "\n",
        "def plot_pca_data(X, y):    \n",
        "    \n",
        "    LE = LabelEncoder()\n",
        "    y_encoded = LE.fit_transform(y)\n",
        "    \n",
        "    pca = PCA(n_components=2)\n",
        "    pca.fit(X)\n",
        "    pca_X = pca.transform(X)\n",
        "\n",
        "    x_axis = pca_X[:,0]\n",
        "    y_axis = pca_X[:,1]\n",
        "\n",
        "    fig = plt.figure(figsize=(10,10))\n",
        "    ax = fig.add_subplot(111)\n",
        "    \n",
        "    for label in np.unique(y):\n",
        "        ax.scatter(pca_X[y==label, 0],\n",
        "                   pca_X[y==label, 1], \n",
        "                   label=label,\n",
        "                   s=100,\n",
        "                   edgecolor='k')\n",
        "        \n",
        "\n",
        "    ax.legend()\n",
        "    plt.xticks([])\n",
        "    plt.yticks([])\n",
        "\n",
        "plot_pca_data(X, y)"
      ],
      "execution_count": 26,
      "outputs": [
        {
          "output_type": "display_data",
          "data": {
            "image/png": "[encoded data removed]",
            "text/plain": [
              "<Figure size 720x720 with 1 Axes>"
            ]
          },
          "metadata": {}
        }
      ]
    },
    {
      "cell_type": "code",
      "metadata": {
        "colab": {
          "base_uri": "https://localhost:8080/"
        },
        "id": "PifU9q5UWaCh",
        "outputId": "2dcced40-9d0b-4fb7-a312-b50c01255538"
      },
      "source": [
        "from sklearn.linear_model import LogisticRegression\n",
        "from sklearn.metrics import accuracy_score, confusion_matrix, roc_auc_score,roc_curve\n",
        "import itertools\n",
        "\n",
        "\n",
        "model = LogisticRegression(C=0.8,random_state=0,solver='lbfgs')\n",
        "model.fit(X_train, y_train)\n",
        "y_predict = model.predict(X_test)\n",
        "\n",
        "print('Accuracy Score is {:.5}'.format(accuracy_score(y_test, y_predict)))\n",
        "cm=confusion_matrix(y_test,y_predict)\n",
        "score=accuracy_score(y_test, y_predict)"
      ],
      "execution_count": 27,
      "outputs": [
        {
          "output_type": "stream",
          "name": "stdout",
          "text": [
            "Accuracy Score is 0.85315\n"
          ]
        },
        {
          "output_type": "stream",
          "name": "stderr",
          "text": [
            "/usr/local/lib/python3.7/dist-packages/sklearn/linear_model/_logistic.py:940: ConvergenceWarning: lbfgs failed to converge (status=1):\n",
            "STOP: TOTAL NO. of ITERATIONS REACHED LIMIT.\n",
            "\n",
            "Increase the number of iterations (max_iter) or scale the data as shown in:\n",
            "    https://scikit-learn.org/stable/modules/preprocessing.html\n",
            "Please also refer to the documentation for alternative solver options:\n",
            "    https://scikit-learn.org/stable/modules/linear_model.html#logistic-regression\n",
            "  extra_warning_msg=_LOGISTIC_SOLVER_CONVERGENCE_MSG)\n"
          ]
        }
      ]
    },
    {
      "cell_type": "code",
      "metadata": {
        "colab": {
          "base_uri": "https://localhost:8080/",
          "height": 526
        },
        "id": "L0rLiGy5HR-L",
        "outputId": "e099f701-0183-44c6-9bee-d51609a677fa"
      },
      "source": [
        "plt.figure(figsize=(9,9))\n",
        "sns.heatmap(cm, annot=True, fmt=\".3f\", linewidths=.5, square = True, cmap = 'Blues_r');\n",
        "plt.ylabel('Actual label');\n",
        "plt.xlabel('Predicted label');\n",
        "all_sample_title = 'Accuracy Score: {0}'.format(score)\n",
        "plt.title(all_sample_title, size = 15);"
      ],
      "execution_count": 28,
      "outputs": [
        {
          "output_type": "display_data",
          "data": {
            "image/png": "[encoded data removed]",
            "text/plain": [
              "<Figure size 648x648 with 2 Axes>"
            ]
          },
          "metadata": {}
        }
      ]
    },
    {
      "cell_type": "code",
      "metadata": {
        "colab": {
          "base_uri": "https://localhost:8080/"
        },
        "id": "L78Y5TMMX0yB",
        "outputId": "92f008d7-79a0-46ac-b805-625248f5823f"
      },
      "source": [
        "from sklearn.ensemble import RandomForestClassifier\n",
        "\n",
        "model = RandomForestClassifier(n_estimators=250,\n",
        "                              max_depth=12,\n",
        "                              min_samples_leaf=16\n",
        "                              )\n",
        "model.fit(X_train, y_train)\n",
        "y_predict = model.predict(X_test)\n",
        "\n",
        "print('Accuracy Score is {:.5}'.format(accuracy_score(y_test, y_predict)))\n",
        "cm=confusion_matrix(y_test,y_predict)\n",
        "score=accuracy_score(y_test, y_predict)"
      ],
      "execution_count": 29,
      "outputs": [
        {
          "output_type": "stream",
          "name": "stdout",
          "text": [
            "Accuracy Score is 0.85522\n"
          ]
        }
      ]
    },
    {
      "cell_type": "code",
      "metadata": {
        "colab": {
          "base_uri": "https://localhost:8080/",
          "height": 526
        },
        "id": "i6KRIAeRMMP6",
        "outputId": "4b7d97f7-485b-49b0-deae-0cf0d3547d17"
      },
      "source": [
        "plt.figure(figsize=(9,9))\n",
        "sns.heatmap(cm, annot=True, fmt=\".3f\", linewidths=.5, square = True, cmap = 'Blues_r');\n",
        "plt.ylabel('Actual label');\n",
        "plt.xlabel('Predicted label');\n",
        "all_sample_title = 'Accuracy Score: {0}'.format(score)\n",
        "plt.title(all_sample_title, size = 15);"
      ],
      "execution_count": 30,
      "outputs": [
        {
          "output_type": "display_data",
          "data": {
            "image/png": "[encoded data removed]",
            "text/plain": [
              "<Figure size 648x648 with 2 Axes>"
            ]
          },
          "metadata": {}
        }
      ]
    },
    {
      "cell_type": "code",
      "metadata": {
        "id": "3LQsqgaLFgLI"
      },
      "source": [
        ""
      ],
      "execution_count": 30,
      "outputs": []
    },
    {
      "cell_type": "code",
      "metadata": {
        "colab": {
          "base_uri": "https://localhost:8080/"
        },
        "id": "d8tXxMkoXwPB",
        "outputId": "1ba95410-bde8-47cb-d6a7-12cb57c17703"
      },
      "source": [
        "model = svm.SVC(C = 0.8,\n",
        "                kernel='linear')\n",
        "model.fit(X_train, y_train)\n",
        "y_predict = model.predict(X_test)\n",
        "\n",
        "print('Accuracy Score is {:.5}'.format(accuracy_score(y_test, y_predict)))\n",
        "cm=confusion_matrix(y_test,y_predict)\n",
        "score=accuracy_score(y_test, y_predict)"
      ],
      "execution_count": 31,
      "outputs": [
        {
          "output_type": "stream",
          "name": "stdout",
          "text": [
            "Accuracy Score is 0.85522\n"
          ]
        }
      ]
    },
    {
      "cell_type": "code",
      "metadata": {
        "colab": {
          "base_uri": "https://localhost:8080/",
          "height": 526
        },
        "id": "RrbXwJr3MX4w",
        "outputId": "07d3bd09-20d3-47c7-d21c-9595fc4164f3"
      },
      "source": [
        "plt.figure(figsize=(9,9))\n",
        "sns.heatmap(cm, annot=True, fmt=\".3f\", linewidths=.5, square = True, cmap = 'Blues_r');\n",
        "plt.ylabel('Actual label');\n",
        "plt.xlabel('Predicted label');\n",
        "all_sample_title = 'Accuracy Score: {0}'.format(score)\n",
        "plt.title(all_sample_title, size = 15);"
      ],
      "execution_count": 32,
      "outputs": [
        {
          "output_type": "display_data",
          "data": {
            "image/png": "[encoded data removed]",
            "text/plain": [
              "<Figure size 648x648 with 2 Axes>"
            ]
          },
          "metadata": {}
        }
      ]
    },
    {
      "cell_type": "code",
      "metadata": {
        "colab": {
          "base_uri": "https://localhost:8080/"
        },
        "id": "MCVd9NUSWyHP",
        "outputId": "20d75841-c7df-4f86-f310-ea022d4e711d"
      },
      "source": [
        "from xgboost import XGBClassifier\n",
        "from lightgbm import LGBMClassifier\n",
        "\n",
        "\n",
        "model = LGBMClassifier(num_leaves=4,\n",
        "                       max_depth=10, \n",
        "                       learning_rate=0.02,\n",
        "                       n_estimators=200,\n",
        "                       subsample = 0.8,\n",
        "                       colsample_bytree =0.8\n",
        "                      )\n",
        "model.fit(X_train, y_train)\n",
        "y_predict = model.predict(X_test)\n",
        "print('Accuracy Score is {:.5}'.format(accuracy_score(y_test, y_predict)))\n",
        "cm=confusion_matrix(y_test,y_predict)\n",
        "score=accuracy_score(y_test, y_predict)\n"
      ],
      "execution_count": 33,
      "outputs": [
        {
          "output_type": "stream",
          "name": "stdout",
          "text": [
            "Accuracy Score is 0.84592\n"
          ]
        }
      ]
    },
    {
      "cell_type": "code",
      "metadata": {
        "colab": {
          "base_uri": "https://localhost:8080/",
          "height": 526
        },
        "id": "z3bx9NneMdmQ",
        "outputId": "d87f399b-b8e8-4dd9-c95b-0287467059d2"
      },
      "source": [
        "plt.figure(figsize=(9,9))\n",
        "sns.heatmap(cm, annot=True, fmt=\".3f\", linewidths=.5, square = True, cmap = 'Blues_r');\n",
        "plt.ylabel('Actual label');\n",
        "plt.xlabel('Predicted label');\n",
        "all_sample_title = 'Accuracy Score: {0}'.format(score)\n",
        "plt.title(all_sample_title, size = 15);"
      ],
      "execution_count": 34,
      "outputs": [
        {
          "output_type": "display_data",
          "data": {
            "image/png": "[encoded data removed]",
            "text/plain": [
              "<Figure size 648x648 with 2 Axes>"
            ]
          },
          "metadata": {}
        }
      ]
    },
    {
      "cell_type": "code",
      "metadata": {
        "colab": {
          "base_uri": "https://localhost:8080/"
        },
        "id": "NYg0Y39BW3XU",
        "outputId": "a4b4320f-a0ef-4a9c-acc7-c9ca852421e8"
      },
      "source": [
        "\n",
        "model = XGBClassifier(max_depth=12,\n",
        "                      n_estimators=5,\n",
        "                      min_child_weight=150, \n",
        "                      subsample=0.8, \n",
        "                      learning_rate =0.02,    \n",
        "                      seed=42)\n",
        "\n",
        "model.fit(X_train, y_train)\n",
        "y_predict = model.predict(X_test)\n",
        "print('Accuracy Score is {:.5}'.format(accuracy_score(y_test, y_predict)))\n",
        "cm=confusion_matrix(y_test,y_predict)\n",
        "score=accuracy_score(y_test, y_predict)"
      ],
      "execution_count": 35,
      "outputs": [
        {
          "output_type": "stream",
          "name": "stdout",
          "text": [
            "Accuracy Score is 0.85522\n"
          ]
        }
      ]
    },
    {
      "cell_type": "code",
      "metadata": {
        "colab": {
          "base_uri": "https://localhost:8080/",
          "height": 526
        },
        "id": "tldtr5dCwCjM",
        "outputId": "3772bfc7-f4a3-4dfb-a62c-9d1e7a6c6382"
      },
      "source": [
        "plt.figure(figsize=(9,9))\n",
        "sns.heatmap(cm, annot=True, fmt=\".3f\", linewidths=.5, square = True, cmap = 'Blues_r');\n",
        "plt.ylabel('Actual label');\n",
        "plt.xlabel('Predicted label');\n",
        "all_sample_title = 'Accuracy Score: {0}'.format(score)\n",
        "plt.title(all_sample_title, size = 15);"
      ],
      "execution_count": 36,
      "outputs": [
        {
          "output_type": "display_data",
          "data": {
            "image/png": "[encoded data removed]",
            "text/plain": [
              "<Figure size 648x648 with 2 Axes>"
            ]
          },
          "metadata": {}
        }
      ]
    },
    {
      "cell_type": "code",
      "metadata": {
        "id": "wr_vehg9MzJp"
      },
      "source": [
        ""
      ],
      "execution_count": 36,
      "outputs": []
    }
  ]
}